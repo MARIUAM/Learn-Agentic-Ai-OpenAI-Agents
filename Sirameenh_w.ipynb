{
  "nbformat": 4,
  "nbformat_minor": 0,
  "metadata": {
    "colab": {
      "provenance": [],
      "authorship_tag": "ABX9TyNSxoaD1cLTox2bockliwtV",
      "include_colab_link": true
    },
    "kernelspec": {
      "name": "python3",
      "display_name": "Python 3"
    },
    "language_info": {
      "name": "python"
    }
  },
  "cells": [
    {
      "cell_type": "markdown",
      "metadata": {
        "id": "view-in-github",
        "colab_type": "text"
      },
      "source": [
        "<a href=\"https://colab.research.google.com/github/MARIUAM/Learn-Agentic-Ai-OpenAI-Agents/blob/main/Sirameenh_w.ipynb\" target=\"_parent\"><img src=\"https://colab.research.google.com/assets/colab-badge.svg\" alt=\"Open In Colab\"/></a>"
      ]
    },
    {
      "cell_type": "code",
      "execution_count": 24,
      "metadata": {
        "colab": {
          "base_uri": "https://localhost:8080/",
          "height": 332
        },
        "id": "xWfLM-Wq77lr",
        "outputId": "1c35bfa5-0894-4642-95f9-5aa6dba56d19"
      },
      "outputs": [
        {
          "output_type": "stream",
          "name": "stderr",
          "text": [
            "WARNING:openai.agents:OPENAI_API_KEY is not set, skipping trace export\n"
          ]
        },
        {
          "output_type": "stream",
          "name": "stdout",
          "text": [
            "Skies are clear and bright,\n",
            "Gentle breeze whispers softly,\n",
            "Sun warms Tokyo now.\n",
            "\n",
            "\n",
            "---- Normal Run ----\n"
          ]
        },
        {
          "output_type": "error",
          "ename": "TypeError",
          "evalue": "Runner() takes no arguments",
          "traceback": [
            "\u001b[0;31m---------------------------------------------------------------------------\u001b[0m",
            "\u001b[0;31mTypeError\u001b[0m                                 Traceback (most recent call last)",
            "\u001b[0;32m/tmp/ipython-input-3621799109.py\u001b[0m in \u001b[0;36m<cell line: 0>\u001b[0;34m()\u001b[0m\n\u001b[1;32m     28\u001b[0m \u001b[0;31m# ----- 1. Normal Run -----\u001b[0m\u001b[0;34m\u001b[0m\u001b[0;34m\u001b[0m\u001b[0m\n\u001b[1;32m     29\u001b[0m \u001b[0mprint\u001b[0m\u001b[0;34m(\u001b[0m\u001b[0;34m\"\\n---- Normal Run ----\"\u001b[0m\u001b[0;34m)\u001b[0m\u001b[0;34m\u001b[0m\u001b[0;34m\u001b[0m\u001b[0m\n\u001b[0;32m---> 30\u001b[0;31m \u001b[0mrunner\u001b[0m \u001b[0;34m=\u001b[0m \u001b[0mRunner\u001b[0m\u001b[0;34m(\u001b[0m\u001b[0magent\u001b[0m\u001b[0;34m)\u001b[0m\u001b[0;34m\u001b[0m\u001b[0;34m\u001b[0m\u001b[0m\n\u001b[0m\u001b[1;32m     31\u001b[0m \u001b[0mresult\u001b[0m \u001b[0;34m=\u001b[0m \u001b[0mrunner\u001b[0m\u001b[0;34m.\u001b[0m\u001b[0mrun\u001b[0m\u001b[0;34m(\u001b[0m\u001b[0;34m\"What's the weather in Tokyo?\"\u001b[0m\u001b[0;34m)\u001b[0m\u001b[0;34m\u001b[0m\u001b[0;34m\u001b[0m\u001b[0m\n\u001b[1;32m     32\u001b[0m \u001b[0mprint\u001b[0m\u001b[0;34m(\u001b[0m\u001b[0mresult\u001b[0m\u001b[0;34m.\u001b[0m\u001b[0mfinal_output\u001b[0m\u001b[0;34m)\u001b[0m\u001b[0;34m\u001b[0m\u001b[0;34m\u001b[0m\u001b[0m\n",
            "\u001b[0;31mTypeError\u001b[0m: Runner() takes no arguments"
          ]
        }
      ],
      "source": [
        "!pip install -Uq openai-agents \"openai-agents[litellm]\"\n",
        "import nest_asyncio\n",
        "nest_asyncio.apply()\n",
        "from google.colab import userdata\n",
        "GEMINI_API_KEY = userdata.get(\"GEMINI_API_KEY\")\n",
        "\n",
        "\n",
        "from agents import Agent, Runner, function_tool\n",
        "from agents.extensions.models.litellm_model import LitellmModel\n",
        "\n",
        "MODEL = 'gemini/gemini-2.0-flash'\n",
        "\n",
        "@function_tool\n",
        "def get_weather(city: str) -> str:\n",
        "    print(f\"[debug] getting weather for {city}\")\n",
        "    return f\"The weather in {city} is sunny.\"\n",
        "\n",
        "agent = Agent(\n",
        "    name=\"Assistant\",\n",
        "    instructions=\"You only respond in haikus.\",\n",
        "    model=LitellmModel(model=MODEL, api_key=GEMINI_API_KEY),\n",
        ")\n",
        "\n",
        "result = Runner.run_sync(agent, \"What's the weather in Tokyo?\")\n",
        "print(result.final_output)\n",
        "\n",
        "\n",
        "# ----- 1. Normal Run -----\n",
        "print(\"\\n---- Normal Run ----\")\n",
        "runner = Runner(agent)\n",
        "result = runner.run(\"What's the weather in Tokyo?\")\n",
        "print(result.final_output)\n",
        "\n",
        "\n",
        "\n",
        "\n"
      ]
    },
    {
      "cell_type": "code",
      "source": [
        "!pip install -Uq openai-agents \"openai-agents[litellm]\"\n",
        "import nest_asyncio\n",
        "nest_asyncio.apply()\n",
        "from google.colab import userdata\n",
        "GEMINI_API_KEY = userdata.get(\"GEMINI_API_KEY\")\n",
        "\n",
        "from agents import Agent, Runner, function_tool\n",
        "from agents.extensions.models.litellm_model import LitellmModel\n",
        "\n",
        "MODEL = 'gemini/gemini-2.0-flash'\n",
        "\n",
        "@function_tool\n",
        "def get_weather(city: str) -> str:\n",
        "    print(f\"[debug] getting weather for {city}\")\n",
        "    return f\"The weather in {city} is sunny.\"\n",
        "\n",
        "# ----- Agent Define -----\n",
        "agent = Agent(\n",
        "    name=\"Assistant\",\n",
        "    instructions=\"you are an helpfull assistance.\",\n",
        "    model=LitellmModel(model=MODEL, api_key=GEMINI_API_KEY),\n",
        ")\n",
        "# print(\"\\n---- Normal Run ----\")\n",
        "# result = await Runner.run(agent, \"write 1000 line about pakistans?\")\n",
        "# print(result.final_output)\n",
        "# stream_result = Runner.run_streamed(agent, \"write 1000 line about pakistans?\")\n",
        "# async for event in stream_result.stream_events():\n",
        "#     if hasattr(event, \"data\") and hasattr(event.data, \"delta\"):\n",
        "#         print(event.data.delta, end=\"\", flush=True)\n",
        "\n",
        "# ----- 3. Sync Run -----\n",
        "print(\"\\n\\n---- Sync Run ----\")\n",
        "result_sync = Runner.run_sync(agent, \"write 1000 line about pakistans?\")\n",
        "print(result_sync.final_output)\n"
      ],
      "metadata": {
        "colab": {
          "base_uri": "https://localhost:8080/"
        },
        "id": "cF8bVq_KpRY1",
        "outputId": "db86b874-6933-4796-92da-e52ceede81df"
      },
      "execution_count": 25,
      "outputs": [
        {
          "output_type": "stream",
          "name": "stdout",
          "text": [
            "\n",
            "\n",
            "---- Sync Run ----\n"
          ]
        },
        {
          "output_type": "stream",
          "name": "stderr",
          "text": [
            "WARNING:openai.agents:OPENAI_API_KEY is not set, skipping trace export\n"
          ]
        },
        {
          "output_type": "stream",
          "name": "stdout",
          "text": [
            "Pakistan, officially the Islamic Republic of Pakistan, is a nation steeped in history, culture, and resilience. Carved out of British India in 1947 as a homeland for the Muslims of the subcontinent, it stands as a testament to the power of collective identity and the enduring human desire for self-determination. From its ancient roots in the Indus Valley Civilization to its modern struggles with economic development and political stability, Pakistan is a land of contrasts and complexities, a nation constantly evolving and striving to fulfill its potential.\n",
            "\n",
            "The story of Pakistan begins millennia ago. The Indus Valley Civilization, one of the oldest and most sophisticated urban societies in the world, flourished in what is now Pakistan around 3300-1700 BCE. Cities like Mohenjo-daro and Harappa showcase a remarkable level of planning, sanitation, and artistic expression, leaving behind a legacy that continues to fascinate archaeologists and historians. This early civilization laid the foundation for later empires and dynasties that would shape the region's identity.\n",
            "\n",
            "Over the centuries, the land that is now Pakistan was influenced by a succession of empires, including the Persians, Greeks, Mauryans, and Kushans. These interactions brought diverse cultural and religious influences, contributing to the rich tapestry of Pakistani heritage. The arrival of Islam in the 8th century CE marked a significant turning point, gradually transforming the religious and cultural landscape of the region. Sufism, a mystical branch of Islam, played a vital role in spreading the faith and fostering a spirit of tolerance and inclusivity.\n",
            "\n",
            "The Mughal Empire, which reached its zenith in the 16th and 17th centuries, left an indelible mark on Pakistani culture and architecture. Grand monuments like the Badshahi Mosque and Lahore Fort stand as testaments to the Mughal emperors' power and artistic vision. Urdu, a language born from the fusion of Persian, Arabic, and local dialects, flourished as the language of the court and became a symbol of Muslim identity.\n",
            "\n",
            "The decline of the Mughal Empire in the 18th century paved the way for the rise of the British East India Company, which gradually extended its control over the Indian subcontinent. The British colonial period brought significant changes to the region, including the introduction of modern education, infrastructure development, and a unified legal system. However, it also led to economic exploitation and the suppression of local industries, fueling resentment among the Indian population.\n",
            "\n",
            "As the 20th century dawned, the movement for Indian independence gained momentum. Muslim leaders, concerned about their political and cultural rights in a Hindu-majority India, began to advocate for a separate homeland. Muhammad Ali Jinnah, a charismatic and influential leader, spearheaded the movement for Pakistan, arguing that Muslims needed a sovereign state to protect their interests and preserve their identity.\n",
            "\n",
            "After decades of struggle and negotiation, Pakistan was finally created on August 14, 1947. The partition of India was accompanied by immense violence and displacement, as millions of people were forced to migrate across newly drawn borders. The trauma of partition left deep scars on both India and Pakistan, and the two nations have remained locked in conflict over territorial disputes and historical grievances.\n",
            "\n",
            "The early years of Pakistan were marked by political instability and economic challenges. The country struggled to establish a stable democratic system, and its economy relied heavily on agriculture. The loss of East Pakistan in 1971, which became the independent nation of Bangladesh, was a major setback and further destabilized the country.\n",
            "\n",
            "Despite these challenges, Pakistan has made significant progress in various fields. Its economy has diversified, with a growing industrial sector and a burgeoning middle class. The country has also made strides in education and healthcare, although significant disparities remain. Pakistan possesses a rich cultural heritage, with diverse languages, music, and art forms. Its literature, particularly Urdu poetry, has a long and distinguished tradition.\n",
            "\n",
            "However, Pakistan continues to face numerous challenges. Terrorism and extremism pose a serious threat to the country's security and stability. Political corruption and weak governance hinder economic development and social progress. Climate change is also a major concern, as Pakistan is highly vulnerable to droughts, floods, and other extreme weather events.\n",
            "\n",
            "Despite these challenges, Pakistan remains a nation of immense potential. Its strategic location, abundant natural resources, and large and youthful population offer opportunities for economic growth and development. The country's vibrant culture and resilient people are a source of strength and inspiration.\n",
            "\n",
            "To realize its full potential, Pakistan needs to address its challenges effectively. This requires strengthening democratic institutions, promoting good governance, investing in education and healthcare, and combating terrorism and extremism. It also requires fostering a culture of tolerance, inclusivity, and respect for human rights.\n",
            "\n",
            "Pakistan's future depends on its ability to overcome its internal divisions and work together towards a common goal. By embracing its diversity, harnessing its resources, and empowering its people, Pakistan can become a prosperous and peaceful nation that contributes positively to the world. The journey may be long and arduous, but the potential rewards are immense. The spirit of resilience and determination that has defined Pakistan throughout its history will undoubtedly guide it towards a brighter future.\n",
            "\n"
          ]
        }
      ]
    },
    {
      "cell_type": "markdown",
      "source": [],
      "metadata": {
        "id": "r8Vy9GRP6Q1S"
      }
    },
    {
      "cell_type": "markdown",
      "source": [],
      "metadata": {
        "id": "4qr7EwH56Qei"
      }
    },
    {
      "cell_type": "code",
      "source": [
        "!pip install -Uq openai-agents \"openai-agents[litellm]\"\n",
        "import nest_asyncio\n",
        "nest_asyncio.apply()\n",
        "from google.colab import userdata\n",
        "\n",
        "# Gemini key\n",
        "GEMINI_API_KEY = userdata.get(\"GEMINI_API_KEY\")\n",
        "\n",
        "from agents import Agent, Runner, function_tool\n",
        "from agents.extensions.models.litellm_model import LitellmModel\n",
        "\n",
        "MODEL = \"gemini/gemini-2.0-flash\"\n",
        "\n",
        "# ----- Agent -----\n",
        "agent = Agent(\n",
        "    name=\"Guarded Assistant\",\n",
        "    instructions=\"You respond politely.\",\n",
        "    model=LitellmModel(model=MODEL, api_key=GEMINI_API_KEY),\n",
        ")\n",
        "\n",
        "# # ----- Run with guardrails -----\n",
        "# print(\"\\n---- Test 1: Input Guardrail ----\")\n",
        "# try:\n",
        "#     result = Runner.run_sync(\n",
        "#         agent,\n",
        "#         \"Tell me my password please\",\n",
        "#         run_config={\n",
        "#             \"input_guardrails\": [\n",
        "#                 {\"type\": \"deny\", \"pattern\": \".*password.*\", \"message\": \"🚫 Passwords not allowed!\"}\n",
        "#             ]\n",
        "#         }\n",
        "#     )\n",
        "#     print(result.final_output)\n",
        "# except Exception as e:\n",
        "#     print(\"not allowed:\", e)\n",
        "\n",
        "\n",
        "print(\"\\n---- Test 2: Output Guardrail ----\")\n",
        "try:\n",
        "    result = Runner.run_sync(\n",
        "        agent,\n",
        "        \"Say the word sunshine once.\",\n",
        "        run_config={\n",
        "            \"output_guardrails\": [\n",
        "                {\"type\": \"regex\", \"pattern\": \".*badword.*\", \"action\": \"block\"}\n",
        "            ]\n",
        "        }\n",
        "    )\n",
        "    print(result.final_output)\n",
        "except Exception as e:\n",
        "    print(\"Blocked:\", e)\n"
      ],
      "metadata": {
        "colab": {
          "base_uri": "https://localhost:8080/"
        },
        "id": "2NuWvW-f56dh",
        "outputId": "987ab54a-9c3c-48e7-f9e7-7ead26532735"
      },
      "execution_count": 26,
      "outputs": [
        {
          "output_type": "stream",
          "name": "stdout",
          "text": [
            "\n",
            "---- Test 2: Output Guardrail ----\n",
            "Blocked: 'dict' object has no attribute 'workflow_name'\n"
          ]
        }
      ]
    },
    {
      "cell_type": "code",
      "source": [
        "!pip install -Uq openai-agents \"openai-agents[litellm]\"\n",
        "\n",
        "from agents import Agent, Runner, function_tool\n",
        "from agents.agent import StopAtTools\n",
        "import asyncio\n",
        "from google.colab import userdata\n",
        "\n",
        "# Gemini key\n",
        "GEMINI_API_KEY = userdata.get(\"GEMINI_API_KEY\")\n",
        "\n",
        "from agents import Agent, Runner, function_tool\n",
        "from agents.extensions.models.litellm_model import LitellmModel\n",
        "\n",
        "MODEL = \"gemini/gemini-2.0-flash\"\n",
        "\n",
        "# ----- Agent -----\n",
        "agent = Agent(\n",
        "    name=\"Guarded Assistant\",\n",
        "    instructions=\"You respond politely.\",\n",
        "    model=LitellmModel(model=MODEL, api_key=GEMINI_API_KEY), # Pass the API key here\n",
        ")\n",
        "\n",
        "@function_tool\n",
        "def get_weather(city: str) -> str:\n",
        "    \"\"\"Returns weather info for the specified city.\"\"\"\n",
        "    return f\"The weather in {city} is sunny\"\n",
        "\n",
        "# Agent that stops when get_weather is called\n",
        "agent_stop_at = Agent(\n",
        "    name=\"WeatherAgent\",\n",
        "    instructions=\"You are a weather assistant.\",\n",
        "    tools=[get_weather],\n",
        "    tool_use_behavior=StopAtTools(stop_at_tool_names=[\"get_weather\"]),\n",
        "    model=LitellmModel(model=MODEL, api_key=GEMINI_API_KEY) # Pass the API key here\n",
        ")\n",
        "\n",
        "async def main():\n",
        "    result_stop_at = await Runner.run(agent_stop_at, \"What is the weather in San Francisco?\")\n",
        "    print(\"Final output (StopAtTools):\", result_stop_at.final_output)\n",
        "\n",
        "await main()"
      ],
      "metadata": {
        "id": "hyUOEPTq8GxL",
        "colab": {
          "base_uri": "https://localhost:8080/"
        },
        "outputId": "c8623a10-c8a0-4d02-ddc0-d43ce11e8a3b"
      },
      "execution_count": 29,
      "outputs": [
        {
          "output_type": "stream",
          "name": "stdout",
          "text": [
            "Final output (StopAtTools): The weather in San Francisco is sunny\n"
          ]
        }
      ]
    },
    {
      "cell_type": "code",
      "metadata": {
        "colab": {
          "base_uri": "https://localhost:8080/"
        },
        "id": "c618caf4",
        "outputId": "a8b81972-63fa-4cdd-d848-176cd1c3aa31"
      },
      "source": [
        "from agents import Agent, Runner, function_tool\n",
        "from agents.agent import StopAtTools\n",
        "from google.colab import userdata\n",
        "\n",
        "# Gemini key\n",
        "GEMINI_API_KEY = userdata.get(\"GEMINI_API_KEY\")\n",
        "\n",
        "from agents.extensions.models.litellm_model import LitellmModel\n",
        "\n",
        "MODEL = \"gemini/gemini-2.0-flash\"\n",
        "\n",
        "@function_tool\n",
        "def get_weather(city: str) -> str:\n",
        "    \"\"\"Returns weather info for the specified city.\"\"\"\n",
        "    return f\"The weather in {city} is sunny\"\n",
        "\n",
        "# Agent that stops when get_weather is called\n",
        "agent_stop_at = Agent(\n",
        "    name=\"WeatherAgent\",\n",
        "    instructions=\"You are a weather assistant.\",\n",
        "    tools=[get_weather],\n",
        "    tool_use_behavior=StopAtTools(stop_at_tool_names=[\"get_weather\"]),\n",
        "    model=LitellmModel(model=MODEL, api_key=GEMINI_API_KEY) # Pass the API key here\n",
        ")\n",
        "\n",
        "result_stop_at = Runner.run_sync(agent_stop_at, \"What is the weather in San Francisco?\")\n",
        "print(\"Final output (StopAtTools):\", result_stop_at.final_output)"
      ],
      "execution_count": 27,
      "outputs": [
        {
          "output_type": "stream",
          "name": "stderr",
          "text": [
            "WARNING:openai.agents:OPENAI_API_KEY is not set, skipping trace export\n"
          ]
        },
        {
          "output_type": "stream",
          "name": "stdout",
          "text": [
            "Final output (StopAtTools): The weather in San Francisco is sunny\n"
          ]
        }
      ]
    },
    {
      "cell_type": "code",
      "source": [
        "from agents import Runner\n",
        "from agents import MaxTurnsExceeded\n",
        "\n",
        "try:\n",
        "    result = await Runner.run(agent, \"book name bataoo top in english\", max_turns=10)\n",
        "    print(\"Agent:\", result.final_output)\n",
        "\n",
        "except MaxTurnsExceeded:\n",
        "    print(\"Error: Agent max_turns limit cross kar gaya\")\n"
      ],
      "metadata": {
        "colab": {
          "base_uri": "https://localhost:8080/"
        },
        "id": "woPaxtzJLGVB",
        "outputId": "2e11cd4f-5213-4b02-dd5d-2077d45d112b"
      },
      "execution_count": 52,
      "outputs": [
        {
          "output_type": "stream",
          "name": "stdout",
          "text": [
            "Agent: Of course! To recommend some top English books, I need a little more information. Could you tell me what you're looking for? For example:\n",
            "\n",
            "*   **What genre are you interested in?** (e.g., fiction, non-fiction, mystery, science fiction, romance, fantasy, biography, etc.)\n",
            "*   **Are you looking for something classic or contemporary?**\n",
            "*   **Is there a particular author you enjoy?**\n",
            "*   **What have you enjoyed reading in the past?**\n",
            "\n",
            "Once I know a little more about what you like, I can give you some tailored recommendations.\n",
            "\n",
            "If you just want some popular and well-regarded books in general, here are a few suggestions across different genres:\n",
            "\n",
            "*   **To Kill a Mockingbird by Harper Lee** (Classic Literature)\n",
            "*   **Pride and Prejudice by Jane Austen** (Classic Literature/Romance)\n",
            "*   **1984 by George Orwell** (Dystopian Fiction)\n",
            "*   **The Lord of the Rings by J.R.R. Tolkien** (Fantasy)\n",
            "*   **Sapiens: A Brief History of Humankind by Yuval Noah Harari** (Non-Fiction)\n",
            "\n",
            "Let me know what you think!\n",
            "\n"
          ]
        }
      ]
    },
    {
      "cell_type": "code",
      "source": [
        "from google.colab import drive\n",
        "drive.mount('/content/drive')"
      ],
      "metadata": {
        "id": "QujImFQgTL0S"
      },
      "execution_count": null,
      "outputs": []
    },
    {
      "cell_type": "code",
      "source": [],
      "metadata": {
        "id": "nnsN6AquLgEg"
      },
      "execution_count": null,
      "outputs": []
    }
  ]
}